{
  "nbformat": 4,
  "nbformat_minor": 0,
  "metadata": {
    "colab": {
      "name": "primer_examen_medio_curso.ipynb",
      "provenance": [],
      "authorship_tag": "ABX9TyOrHN84M6zIsJ/bG4Xnh1JN",
      "include_colab_link": true
    },
    "kernelspec": {
      "name": "python3",
      "display_name": "Python 3"
    },
    "language_info": {
      "name": "python"
    }
  },
  "cells": [
    {
      "cell_type": "markdown",
      "metadata": {
        "id": "view-in-github",
        "colab_type": "text"
      },
      "source": [
        "<a href=\"https://colab.research.google.com/github/oaklenhu/Primer_Examen_Parcial_Sabatino/blob/main/primer_examen_medio_curso.ipynb\" target=\"_parent\"><img src=\"https://colab.research.google.com/assets/colab-badge.svg\" alt=\"Open In Colab\"/></a>"
      ]
    },
    {
      "cell_type": "code",
      "execution_count": 1,
      "metadata": {
        "colab": {
          "base_uri": "https://localhost:8080/"
        },
        "id": "IC5x2fmdJ2hy",
        "outputId": "22ff9c8a-f677-4415-b671-77ade35e6141"
      },
      "outputs": [
        {
          "output_type": "stream",
          "name": "stdout",
          "text": [
            "Ingrese un numero cual sea: 85741\n",
            "La sumatoria de los numeros desde el numero inicial hasta el numero final es:  3675802411\n"
          ]
        }
      ],
      "source": [
        "numero_inicial = int(input(\"Ingrese un numero cual sea: \"))\n",
        "sumatoria = 0\n",
        "for numero in range(numero_inicial):\n",
        "    sumatoria = sumatoria + (numero + 1)\n",
        "\n",
        "\n",
        "print(\"La sumatoria de los numeros desde el numero inicial hasta el numero final es: \",sumatoria)"
      ]
    }
  ]
}